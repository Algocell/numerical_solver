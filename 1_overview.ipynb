{
 "cells": [
  {
   "cell_type": "markdown",
   "id": "70238dd5",
   "metadata": {},
   "source": [
    "# Overview: Solving ODEs with SciPy"
   ]
  },
  {
   "cell_type": "markdown",
   "id": "cbeb7470",
   "metadata": {},
   "source": [
    "\n",
    "## What is an ODE?\n",
    "\n",
    "An **Ordinary Differential Equation (ODE)** describes how a variable changes with respect to another (usually time):\n",
    "\n",
    "$$\n",
    "\\frac{dy}{dt} = f(t, y)\n",
    "$$\n",
    "\n",
    "Given an initial value \\( y(t_0) = y_0 \\), we solve for \\( y(t) \\) over some time interval.\n",
    "\n",
    "SciPy's `solve_ivp` provides several numerical solvers to approximate solutions for such equations.\n"
   ]
  },
  {
   "cell_type": "markdown",
   "id": "65b3116c",
   "metadata": {},
   "source": [
    "\n",
    "## Solver Categories\n",
    "\n",
    "### Non-Stiff Solvers\n",
    "These work best for \"well-behaved\" problems where the solution varies smoothly:\n",
    "\n",
    "- `RK45` — Dormand-Prince (default)\n",
    "- `RK23` — Low-order Runge-Kutta\n",
    "- `DOP853` — High-order, suitable for smooth problems\n",
    "\n",
    "### Stiff Solvers\n",
    "Used for problems with rapidly changing components that require very small steps for stability:\n",
    "\n",
    "- `BDF` — Backward Differentiation Formula (multi-step)\n",
    "- `Radau` — Implicit Runge-Kutta of order 5\n",
    "- `LSODA` — Automatically switches between non-stiff and stiff\n",
    "\n"
   ]
  },
  {
   "cell_type": "markdown",
   "id": "ac857cf0",
   "metadata": {},
   "source": [
    "\n",
    "### Quick Comparison\n",
    "\n",
    "| Method  | Type     | Order | Stiff Support | Notes                        |\n",
    "|---------|----------|-------|---------------|------------------------------|\n",
    "| RK45    | Explicit | 5     | ❌            | Good general-purpose         |\n",
    "| RK23    | Explicit | 3     | ❌            | For less smooth problems     |\n",
    "| DOP853  | Explicit | 8     | ❌            | Very accurate, more costly   |\n",
    "| BDF     | Implicit | 1-5   | ✅            | Multi-step, Jacobian useful  |\n",
    "| Radau   | Implicit | 5     | ✅            | Collocation, very stable     |\n",
    "| LSODA   | Hybrid   | —     | ✅/❌         | Automatically chooses method |\n"
   ]
  }
 ],
 "metadata": {
  "language_info": {
   "name": "python"
  }
 },
 "nbformat": 4,
 "nbformat_minor": 5
}
